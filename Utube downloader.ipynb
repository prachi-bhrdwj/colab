{
  "nbformat": 4,
  "nbformat_minor": 0,
  "metadata": {
    "colab": {
      "name": "Untitled1.ipynb",
      "provenance": [],
      "authorship_tag": "ABX9TyPrHg370j/zqKNwolQQOKfo",
      "include_colab_link": true
    },
    "kernelspec": {
      "name": "python3",
      "display_name": "Python 3"
    },
    "language_info": {
      "name": "python"
    }
  },
  "cells": [
    {
      "cell_type": "markdown",
      "metadata": {
        "id": "view-in-github",
        "colab_type": "text"
      },
      "source": [
        "<a href=\"https://colab.research.google.com/github/prachi-bhrdwj/colab/blob/main/Utube%20downloader.ipynb\" target=\"_parent\"><img src=\"https://colab.research.google.com/assets/colab-badge.svg\" alt=\"Open In Colab\"/></a>"
      ]
    },
    {
      "cell_type": "code",
      "metadata": {
        "colab": {
          "base_uri": "https://localhost:8080/"
        },
        "id": "1NXGPd_92R0d",
        "outputId": "1a5dcf33-cb58-4ffb-e179-a5db29da50d5"
      },
      "source": [
        "!pip install pytube\n",
        "from pytube import YouTube\n",
        "\n",
        "#ask for the link from user\n",
        "link = input(\"Enter the link of YouTube video you want to download:  \")\n",
        "yt = YouTube(link)\n",
        "\n",
        "#Showing details\n",
        "print(\"Title: \",yt.title)\n",
        "print(\"Number of views: \",yt.views)\n",
        "print(\"Length of video: \",yt.length)\n",
        "print(\"Rating of video: \",yt.rating)\n",
        "#Getting the highest resolution possible\n",
        "ys = yt.streams.get_highest_resolution()\n",
        "\n",
        "#Starting download\n",
        "print(\"Downloading...\")\n",
        "ys.download()\n",
        "print(\"Download completed!!\")"
      ],
      "execution_count": 3,
      "outputs": [
        {
          "output_type": "stream",
          "name": "stdout",
          "text": [
            "Requirement already satisfied: pytube in /usr/local/lib/python3.7/dist-packages (11.0.1)\n",
            "Enter the link of YouTube video you want to download:  https://www.youtube.com/watch?v=DB3D-mtWR0c\n",
            "Title:  Ranjha - Lyric Video|Shershaah|Sidharth-Kiara|B Praak|Jasleen Royal|Anvita Dutt\n",
            "Number of views:  16548036\n",
            "Length of video:  230\n",
            "Rating of video:  4.889157\n",
            "Downloading...\n",
            "Download completed!!\n"
          ]
        }
      ]
    }
  ]
}